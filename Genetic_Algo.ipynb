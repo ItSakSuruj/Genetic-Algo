{
  "nbformat": 4,
  "nbformat_minor": 0,
  "metadata": {
    "colab": {
      "provenance": []
    },
    "kernelspec": {
      "name": "python3",
      "display_name": "Python 3"
    },
    "language_info": {
      "name": "python"
    }
  },
  "cells": [
    {
      "cell_type": "code",
      "execution_count": 1,
      "metadata": {
        "id": "oH3wqulIj0PJ"
      },
      "outputs": [],
      "source": [
        "from numpy.random import randint\n",
        "from numpy.random import rand\n",
        "import math"
      ]
    },
    {
      "cell_type": "code",
      "source": [
        "# The objective function is a two-dimensional inverted Gaussian function, centred at (7, 9)\n",
        "def objective(x):\n",
        "  y = math.exp(((x[0]-7)**2) + (x[1]-9)**2)\n",
        "  return y"
      ],
      "metadata": {
        "id": "lLNAAW9jkAdy"
      },
      "execution_count": 2,
      "outputs": []
    },
    {
      "cell_type": "code",
      "source": [
        "# The decode function decodes binary bitstrings to numbers for each input and scales the value to fall within defined bounds\n",
        "def decode(bounds, n_bits, bitstring):\n",
        "\t\"\"\"\n",
        "\tThis function decodes binary bitstrings to numbers for each input and scales the value to fall within defined bounds.\n",
        "\n",
        "\tParameters:\n",
        "\t\tbounds (list): A list of tuples representing the lower and upper bounds for each value to be decoded.\n",
        "\t\tn_bits (int): The number of bits used to represent each value.\n",
        "\t\tbitstring (list): A binary bitstring to be decoded.\n",
        "\n",
        "\tReturns:\n",
        "\t\tdecoded (list): A list of decoded values.\n",
        "\t\"\"\"\n",
        "\tdecoded = []  # Create an empty list to hold the decoded values\n",
        "\tlargest = 2**n_bits  # The largest value that can be represented with the given number of bits\n",
        "\tfor i in range(len(bounds)):\n",
        "\t\t# Extract the substring for the current value\n",
        "\t\tstart, end = i * n_bits, (i * n_bits) + n_bits  # Define the start and end indices of the substring\n",
        "\t\tsubstring = bitstring[start:end]  # Extract the substring\n",
        "\t\t# Convert the substring to a string of characters\n",
        "\t\tchars = ''.join([str(s) for s in substring])  # Join the values in the substring together into a string of characters\n",
        "\t\t# Convert the string of characters to an integer\n",
        "\t\tinteger = int(chars, 2)  # Convert the binary number string into an integer\n",
        "\t\t# Scale the integer to the desired range\n",
        "\t\tvalue = bounds[i][0] + (integer/largest) * (bounds[i][1] - bounds[i][0])  # Scale the integer to a value within the defined bounds\n",
        "\t\t# Store the decoded value\n",
        "\t\tdecoded.append(value)\n",
        "\treturn decoded"
      ],
      "metadata": {
        "id": "iOQMb2sTkFLb"
      },
      "execution_count": 3,
      "outputs": []
    },
    {
      "cell_type": "code",
      "source": [
        "\n",
        "#Let us understand the decoding part first that takes the bounds as input along with the\n",
        "#number of bits and the actual bitstring itself and decodes the bitstring back\n",
        "#to original values that fall within the test bounds.\n",
        "test_bounds=[[-10.0, 10.0], [-10.0, 10.0]]\n",
        "test_n_bits = 16\n",
        "#test_n_pop = 100\n",
        "#Generate a random bit string (of values 0 and 1) of length n_bits*len(bounds). In our case 16*2 = 32\n",
        "test_bit_string = randint(0, 2, test_n_bits*len(test_bounds)).tolist()\n",
        "decoded_values = decode(test_bounds, test_n_bits, test_bit_string)\n",
        "print(test_bit_string)\n",
        "print(decoded_values)\n"
      ],
      "metadata": {
        "colab": {
          "base_uri": "https://localhost:8080/"
        },
        "id": "pbAQD17akFNz",
        "outputId": "db7d0b64-1637-4b17-da96-4d0efc238702"
      },
      "execution_count": 5,
      "outputs": [
        {
          "output_type": "stream",
          "name": "stdout",
          "text": [
            "[1, 1, 0, 1, 1, 1, 1, 1, 0, 1, 0, 0, 1, 0, 0, 1, 0, 0, 0, 1, 0, 0, 1, 0, 1, 0, 0, 1, 1, 1, 0, 0]\n",
            "[7.44415283203125, -8.546142578125]\n"
          ]
        }
      ]
    },
    {
      "cell_type": "code",
      "source": [
        "def selection(pop, scores, k=3):\n",
        "    \"\"\"\n",
        "    Select the best individuals for the next generation based on their fitness (scores).\n",
        "    This function randomly selects k individuals from the population and performs a tournament\n",
        "    among them to choose the one with the best score.\n",
        "\n",
        "    Parameters:\n",
        "    pop (list): The population of individuals.\n",
        "    scores (list): The fitness scores for each individual in the population.\n",
        "    k (int, optional): The number of individuals to select from the population for the tournament.\n",
        "                        Defaults to 3.\n",
        "\n",
        "    Returns:\n",
        "    individual: The best individual from the tournament.\n",
        "    \"\"\"\n",
        "    # Randomly select one index from the population as the initial selection\n",
        "    selection_ix = randint(len(pop))\n",
        "    # Perform a tournament among k randomly selected individuals\n",
        "    for ix in randint(0, len(pop), k-1):\n",
        "        # Check if the current individual has a better score than the selected one\n",
        "        if scores[ix] < scores[selection_ix]:\n",
        "            # Update the selected individual if a better one is found\n",
        "            selection_ix = ix\n",
        "    # Return the best individual from the tournament\n",
        "    return pop[selection_ix]"
      ],
      "metadata": {
        "id": "dco4bG_8kFQN"
      },
      "execution_count": 6,
      "outputs": []
    },
    {
      "cell_type": "code",
      "source": [
        "\n",
        "#Let us understand the selection process.\n",
        "#Create a test population\n",
        "test_bounds=[[-10.0, 10.0], [-10.0, 10.0]]\n",
        "test_n_bits = 16\n",
        "test_n_pop = 100\n",
        "#Create a random population from which we will select based on the scores (from the objective function)\n",
        "pop = [randint(0, 2, test_n_bits*len(test_bounds)).tolist() for _ in range(test_n_pop)]\n",
        "# decode population\n",
        "test_decoded = [decode(test_bounds, test_n_bits, p) for p in pop]\n",
        "# evaluate all candidates in the population using our objective function\n",
        "test_scores = [objective(d) for d in test_decoded]\n",
        "#Run the selection to pick the selected ones from our population\n",
        "test_selection = selection(pop, test_scores, k=3)\n",
        "\n",
        "print(\"From a population of :\", len(pop), \" the selected pop is: \")\n",
        "print(test_selection)\n"
      ],
      "metadata": {
        "colab": {
          "base_uri": "https://localhost:8080/"
        },
        "id": "OWDtVQFokFSk",
        "outputId": "f4434d72-b131-498b-b5eb-053dacdb1635"
      },
      "execution_count": 7,
      "outputs": [
        {
          "output_type": "stream",
          "name": "stdout",
          "text": [
            "From a population of : 100  the selected pop is: \n",
            "[1, 1, 1, 0, 0, 1, 0, 0, 1, 0, 1, 0, 1, 1, 1, 0, 1, 0, 0, 0, 0, 1, 0, 0, 0, 1, 0, 0, 1, 1, 1, 0]\n"
          ]
        }
      ]
    },
    {
      "cell_type": "code",
      "source": [
        "def crossover(p1, p2, r_cross):\n",
        "    \"\"\"\n",
        "    Create two children from two parents using the crossover operation.\n",
        "    The children are created by copying the parents, and recombination occurs\n",
        "    if a random value is less than the crossover rate.\n",
        "\n",
        "    Parameters:\n",
        "    p1 (list): The first parent.\n",
        "    p2 (list): The second parent.\n",
        "    r_cross (float): The crossover rate.\n",
        "\n",
        "    Returns:\n",
        "    list: A list containing the two children.\n",
        "    \"\"\"\n",
        "    # Children are copies of the parents by default\n",
        "    c1, c2 = p1.copy(), p2.copy()\n",
        "    # Check if recombination should occur\n",
        "    if rand() < r_cross:\n",
        "        # Select a crossover point (not at the end of the string)\n",
        "        pt = randint(1, len(p1)-2)\n",
        "        # Perform crossover in the children\n",
        "        c1 = p1[:pt] + p2[pt:]\n",
        "        c2 = p2[:pt] + p1[pt:]\n",
        "    # Return the two children\n",
        "    return [c1, c2]"
      ],
      "metadata": {
        "id": "7YnUYKC5kFU-"
      },
      "execution_count": 8,
      "outputs": []
    },
    {
      "cell_type": "code",
      "source": [
        "#Let us understand the Crossover .\n",
        "test_r_cross = 0.9 #Crossover rate\n",
        "test_bounds=[[-10.0, 10.0], [-10.0, 10.0]]\n",
        "test_n_bits = 16\n",
        "test_p1 = randint(0, 2, test_n_bits*len(test_bounds)).tolist()\n",
        "test_p2 = randint(0, 2, test_n_bits*len(test_bounds)).tolist()\n",
        "test_c1, test_c2 = crossover(test_p1, test_p2, test_r_cross)\n",
        "print(\"Parent 1 is: \", test_p1)\n",
        "print(\"Child 1 is : \", test_c1)\n",
        "print(\"Parent 2 is: \", test_p2)\n",
        "print(\"Child 2 is : \", test_c2)"
      ],
      "metadata": {
        "colab": {
          "base_uri": "https://localhost:8080/"
        },
        "id": "cyJNLa3cllCs",
        "outputId": "b1fddebc-83e4-45ed-e1b5-a52d73578a65"
      },
      "execution_count": 9,
      "outputs": [
        {
          "output_type": "stream",
          "name": "stdout",
          "text": [
            "Parent 1 is:  [0, 1, 0, 1, 1, 1, 0, 0, 0, 1, 0, 1, 1, 0, 0, 0, 1, 1, 0, 1, 1, 1, 1, 1, 1, 1, 1, 0, 1, 1, 0, 1]\n",
            "Child 1 is :  [0, 1, 0, 1, 1, 1, 0, 0, 0, 1, 0, 1, 1, 0, 0, 0, 1, 1, 0, 1, 1, 1, 1, 1, 1, 1, 1, 0, 1, 0, 1, 1]\n",
            "Parent 2 is:  [0, 0, 1, 1, 1, 0, 0, 0, 0, 1, 1, 0, 1, 1, 0, 0, 0, 0, 1, 0, 1, 0, 1, 1, 0, 1, 0, 1, 0, 0, 1, 1]\n",
            "Child 2 is :  [0, 0, 1, 1, 1, 0, 0, 0, 0, 1, 1, 0, 1, 1, 0, 0, 0, 0, 1, 0, 1, 0, 1, 1, 0, 1, 0, 1, 0, 1, 0, 1]\n"
          ]
        }
      ]
    },
    {
      "cell_type": "code",
      "source": [
        "#The crossover process can generate offsprings that are very similar to the parents. This might cause a new generation with low diversity.\n",
        "# The mutation process solves this problem by changing the value of some features in the offspring at random.\n",
        "\n",
        "\n",
        "import random\n",
        "\n",
        "def mutation(bitstring, r_mut):\n",
        "    \"\"\"\n",
        "    The mutation process changes the value of some features in the offspring at random to maintain the diversity in the population.\n",
        "    A standard value for the mutation rate is 1/m where m is the number of features.\n",
        "\n",
        "    Parameters:\n",
        "    bitstring (list): A list of binary values representing the offspring\n",
        "    r_mut (float): The mutation rate, typically 1/m where m is the number of features\n",
        "\n",
        "    Returns:\n",
        "    list: The modified bitstring after mutation\n",
        "\n",
        "    \"\"\"\n",
        "    rand = random.random\n",
        "    for i in range(len(bitstring)):\n",
        "        # Check for a mutation\n",
        "        if rand() < r_mut:\n",
        "            # Flip the bit\n",
        "            bitstring[i] = 1 - bitstring[i]\n",
        "    return bitstring"
      ],
      "metadata": {
        "id": "_H-SUsM6llE-"
      },
      "execution_count": 10,
      "outputs": []
    },
    {
      "cell_type": "code",
      "source": [
        "#Let us understand the mutation.\n",
        "# define range for input\n",
        "test_bounds = [[-10.0, 10.0], [-10.0, 10.0]]\n",
        "test_n_bits = 16\n",
        "# mutation rate\n",
        "r_mut = 1.0 / (float(test_n_bits) * len(test_bounds))\n",
        "test_bitstring = randint(0, 2, test_n_bits*len(test_bounds)).tolist()\n",
        "print(\"String before mutation is \", test_bitstring)\n",
        "mutation(test_bitstring, r_mut)\n",
        "print(\"String after mutation is  \", test_bitstring)"
      ],
      "metadata": {
        "colab": {
          "base_uri": "https://localhost:8080/"
        },
        "id": "cMAU6hKUllIZ",
        "outputId": "9a500372-6429-4dc8-ccd1-3b2643eb4f68"
      },
      "execution_count": 11,
      "outputs": [
        {
          "output_type": "stream",
          "name": "stdout",
          "text": [
            "String before mutation is  [0, 1, 1, 0, 1, 1, 0, 0, 1, 1, 1, 1, 0, 0, 1, 0, 0, 0, 0, 0, 1, 0, 1, 0, 0, 0, 1, 0, 0, 1, 1, 0]\n",
            "String after mutation is   [0, 1, 1, 0, 1, 1, 0, 0, 1, 1, 1, 1, 0, 0, 1, 0, 0, 0, 0, 0, 1, 0, 1, 0, 0, 0, 1, 0, 0, 1, 1, 0]\n"
          ]
        }
      ]
    },
    {
      "cell_type": "code",
      "source": [
        "### Putting all together into our Genetic algorithm that runs until it finds the best\n",
        "#The whole fitness assignment, selection, recombination, and mutation process is\n",
        "#repeated until a stopping criterion is satisfied.\n",
        "#Each generation is likely to be more adapted to the environment than the old one.\n",
        "\n",
        "# genetic algorithm implementation\n",
        "def genetic_algorithm(objective, bounds, n_bits, n_iter, n_pop, r_cross, r_mut):\n",
        "    \"\"\"\n",
        "    The genetic algorithm that finds the optimal solution by performing the fitness assignment, selection, recombination, and mutation process repeatedly.\n",
        "    Each iteration, the solution is more adapted to the environment.\n",
        "\n",
        "    Parameters\n",
        "    ----------\n",
        "    objective: function\n",
        "        The objective function that needs to be optimized.\n",
        "    bounds: list of tuples\n",
        "        The bounds of the solution.\n",
        "    n_bits: int\n",
        "        The number of bits used to encode the solution.\n",
        "    n_iter: int\n",
        "        The number of iterations to perform.\n",
        "    n_pop: int\n",
        "        The size of the population.\n",
        "    r_cross: float\n",
        "        The crossover rate.\n",
        "    r_mut: float\n",
        "        The mutation rate.\n",
        "\n",
        "    Returns\n",
        "    -------\n",
        "    list\n",
        "        The best solution and its evaluation.\n",
        "    \"\"\"\n",
        "    # initialize the population with random bitstrings\n",
        "    pop = [randint(0, 2, n_bits * len(bounds)).tolist() for _ in range(n_pop)]\n",
        "\n",
        "    # track the best solution found so far\n",
        "    best, best_eval = 0, objective(decode(bounds, n_bits, pop[0]))\n",
        "\n",
        "    # iterate over generations\n",
        "    for gen in range(n_iter):\n",
        "        # decode the population\n",
        "        decoded = [decode(bounds, n_bits, p) for p in pop]\n",
        "        # evaluate all candidates in the population\n",
        "        scores = [objective(d) for d in decoded]\n",
        "        # check for a new best solution\n",
        "        for i in range(n_pop):\n",
        "            if scores[i] < best_eval:\n",
        "                best, best_eval = pop[i], scores[i]\n",
        "                print(\">%d, new best f(%s) = %f\" % (gen,  decoded[i], scores[i]))\n",
        "\n",
        "        # select parents\n",
        "        selected = [selection(pop, scores) for _ in range(n_pop)]\n",
        "\n",
        "        # create the next generation - children\n",
        "        children = list()\n",
        "        for i in range(0, n_pop, 2):\n",
        "            # get selected parents in pairs\n",
        "            p1, p2 = selected[i], selected[i + 1]\n",
        "            # crossover and mutation\n",
        "            for c in crossover(p1, p2, r_cross):\n",
        "                # mutation\n",
        "                mutation(c, r_mut)\n",
        "                # store for next generation\n",
        "                children.append(c)\n",
        "        # replace the population\n",
        "        pop = children\n",
        "    return [best, best_eval]\n"
      ],
      "metadata": {
        "id": "5ol0-YWgkFYY"
      },
      "execution_count": 12,
      "outputs": []
    },
    {
      "cell_type": "code",
      "source": [
        "# define range for input\n",
        "bounds = [[-10.0, 10.0], [-10.0, 10.0]]\n",
        "# define the total iterations\n",
        "n_iter = 100\n",
        "# bits per variable\n",
        "n_bits = 16\n",
        "# define the population size\n",
        "n_pop = 100\n",
        "# crossover rate\n",
        "r_cross = 0.9\n",
        "# mutation rate\n",
        "r_mut = 1.0 / (float(n_bits) * len(bounds))\n",
        "# perform the genetic algorithm search\n",
        "best, score = genetic_algorithm(objective, bounds, n_bits, n_iter, n_pop, r_cross, r_mut)\n",
        "print('###########################################################')\n",
        "decoded = decode(bounds, n_bits, best)\n",
        "print('The result is (%s) with a score of %f' % (decoded, score))"
      ],
      "metadata": {
        "colab": {
          "base_uri": "https://localhost:8080/"
        },
        "id": "-hCN_0VHmKiv",
        "outputId": "c723c715-f18b-4377-ed2a-df703b60dec9"
      },
      "execution_count": 13,
      "outputs": [
        {
          "output_type": "stream",
          "name": "stdout",
          "text": [
            ">0, new best f([5.8050537109375, 1.226806640625]) = 726609652459482561265008640.000000\n",
            ">0, new best f([6.5655517578125, 6.7279052734375]) = 210.852687\n",
            ">0, new best f([6.53839111328125, 9.715576171875]) = 2.065004\n",
            ">0, new best f([7.41912841796875, 9.0899658203125]) = 1.201730\n",
            ">3, new best f([6.87225341796875, 9.23858642578125]) = 1.075992\n",
            ">4, new best f([6.978759765625, 9.2388916015625]) = 1.059207\n",
            ">4, new best f([6.87225341796875, 8.93524169921875]) = 1.020725\n",
            ">5, new best f([6.87225341796875, 8.97430419921875]) = 1.017124\n",
            ">6, new best f([6.87164306640625, 9.01336669921875]) = 1.016794\n",
            ">6, new best f([6.900634765625, 8.94073486328125]) = 1.013476\n",
            ">6, new best f([6.96014404296875, 8.97430419921875]) = 1.002251\n",
            ">7, new best f([6.96075439453125, 9.0191650390625]) = 1.001909\n",
            ">7, new best f([7.02789306640625, 9.01336669921875]) = 1.000957\n",
            ">11, new best f([6.99981689453125, 8.97369384765625]) = 1.000692\n",
            ">11, new best f([7.02056884765625, 9.00848388671875]) = 1.000495\n",
            ">11, new best f([7.01019287109375, 9.00421142578125]) = 1.000122\n",
            ">12, new best f([7.00103759765625, 9.00726318359375]) = 1.000054\n",
            ">17, new best f([6.99859619140625, 8.99383544921875]) = 1.000040\n",
            ">17, new best f([6.99493408203125, 9.00054931640625]) = 1.000026\n",
            ">19, new best f([7.00103759765625, 9.00054931640625]) = 1.000001\n",
            ">20, new best f([6.99981689453125, 9.000244140625]) = 1.000000\n",
            ">44, new best f([7.0001220703125, 9.000244140625]) = 1.000000\n",
            ">45, new best f([7.0001220703125, 8.99993896484375]) = 1.000000\n",
            "###########################################################\n",
            "The result is ([7.0001220703125, 8.99993896484375]) with a score of 1.000000\n"
          ]
        }
      ]
    },
    {
      "cell_type": "code",
      "source": [],
      "metadata": {
        "id": "_a_HFUWhmKlI"
      },
      "execution_count": null,
      "outputs": []
    },
    {
      "cell_type": "code",
      "source": [],
      "metadata": {
        "id": "4P-WE2X6mKnY"
      },
      "execution_count": null,
      "outputs": []
    },
    {
      "cell_type": "code",
      "source": [],
      "metadata": {
        "id": "-yikUCfamKpq"
      },
      "execution_count": null,
      "outputs": []
    },
    {
      "cell_type": "code",
      "source": [],
      "metadata": {
        "id": "1-2eaZqOmKtB"
      },
      "execution_count": null,
      "outputs": []
    }
  ]
}